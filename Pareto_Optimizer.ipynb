{
  "nbformat": 4,
  "nbformat_minor": 0,
  "metadata": {
    "colab": {
      "name": "Pareto_Optimizer.ipynb",
      "provenance": [],
      "collapsed_sections": [],
      "authorship_tag": "ABX9TyNLKZiUcyW98UTFCJlaiXE3",
      "include_colab_link": true
    },
    "kernelspec": {
      "name": "python3",
      "display_name": "Python 3"
    }
  },
  "cells": [
    {
      "cell_type": "markdown",
      "metadata": {
        "id": "view-in-github",
        "colab_type": "text"
      },
      "source": [
        "<a href=\"https://colab.research.google.com/github/maurojp/Pareto_Optimizer/blob/main/Pareto_Optimizer.ipynb\" target=\"_parent\"><img src=\"https://colab.research.google.com/assets/colab-badge.svg\" alt=\"Open In Colab\"/></a>"
      ]
    },
    {
      "cell_type": "markdown",
      "metadata": {
        "id": "VCq1R5uZAGdZ"
      },
      "source": [
        "**Preparamos el entorno**"
      ]
    },
    {
      "cell_type": "code",
      "metadata": {
        "id": "zByrFcZw_6Ww"
      },
      "source": [
        "\"\"\"\r\n",
        "\r\n",
        "  Optimizador de modelos neuronales mediante Optimalidad de Pareto\r\n",
        "  Autor: maurojp\r\n",
        "\r\n",
        "\"\"\"\r\n",
        "\r\n",
        "try:\r\n",
        "  # El comando %tensorflow_version solo existe en Colaboratory. Es un MAGIC COMMAND.\r\n",
        "  %tensorflow_version 2.x\r\n",
        "except Exception:\r\n",
        "  pass\r\n",
        "\r\n",
        "import time\r\n",
        "import numpy as np\r\n",
        "from sklearn.model_selection import train_test_split\r\n",
        "import matplotlib.pyplot as plt\r\n",
        "from tensorflow import keras\r\n",
        "from tensorflow.keras import layers"
      ],
      "execution_count": null,
      "outputs": []
    },
    {
      "cell_type": "markdown",
      "metadata": {
        "id": "CEEH1fkxBW8z"
      },
      "source": [
        "**Aquí comienza el código de la herramienta Pareto_Optimizer**"
      ]
    },
    {
      "cell_type": "code",
      "metadata": {
        "id": "Gym3S3vDBDoI"
      },
      "source": [
        "\"\"\"\n",
        "\n",
        "  El argumento hps_list es un numpy.array de listas que representa en primer orden\n",
        "  el hiperparametro y en segundo orden (la lista) los valores que va a tomar el \n",
        "  hiperparametro en el proceso de optimización.\n",
        "  Ej:\n",
        "  hps_list = np.array([[1, 2, 3], [10, 20]]) \n",
        "  En este ejemplo hay dos hiperparametros que variaran durante el proceso,\n",
        "  el primero tomara los valores 1, 2, 3 y el segundo 10, 20.\n",
        "\n",
        "  Retorna un numpy.array de dimensiones:\n",
        "  (cantidad de experimentos, cantidad de hiperparametros)\n",
        "  con todas las combinaciones posibles de hiperparametros.\n",
        "\n",
        "\"\"\"\n",
        "\n",
        "def exps_composer(hps_list):\n",
        "\n",
        "  # Calculo del total de experimentos a crear\n",
        "  total_exps_size = 1\n",
        "  for l in hps_list:\n",
        "    total_exps_size *= len(l)\n",
        "\n",
        "  # Matriz de experimentos con todas la combinaciones de hiperparametros\n",
        "  exps = np.zeros((hps_list.shape[0], total_exps_size))\n",
        "\n",
        "  # Creación de las combinaciones de hiperparametros\n",
        "  segment_num = 0\n",
        "  for i in range(exps.shape[0]):\n",
        "    if (i > 0):\n",
        "      segment = int(exps.shape[1]/(segment_num * len(hps_list[i])))\n",
        "      start = 0\n",
        "      for j in range(segment_num):\n",
        "        for k in range(len(hps_list[i])):\n",
        "          exps[i][start:start+segment] = hps_list[i][k]\n",
        "          start += segment\n",
        "      segment_num = segment_num * len(hps_list[i])\n",
        "    else:\n",
        "      segment = int(exps.shape[1]/len(hps_list[i]))\n",
        "      start = 0\n",
        "      for j in range(len(hps_list[i])):\n",
        "        exps[i][start:start+segment] = hps_list[i][j]\n",
        "        start += segment\n",
        "      segment_num = len(hps_list[i])\n",
        "\n",
        "  return np.transpose(exps)"
      ],
      "execution_count": null,
      "outputs": []
    },
    {
      "cell_type": "code",
      "metadata": {
        "id": "i-DFj4EiCEmI"
      },
      "source": [
        "# Evalua el tiempo de predicción promediando entre 10 predicciones.\r\n",
        "\r\n",
        "def evaluate_time(hps, X_train, y_train, X_test, y_test, X_val, y_val):\r\n",
        "  model = build_model(hps)\r\n",
        "  start = time.time()\r\n",
        "  for i in range(10):\r\n",
        "    preds = model.predict(X_val, verbose=0)\r\n",
        "  end = time.time()\r\n",
        "  delay = (end - start)/10\r\n",
        "  print('Tiempo promedio de predicción:', delay)\r\n",
        "  return delay"
      ],
      "execution_count": null,
      "outputs": []
    },
    {
      "cell_type": "code",
      "metadata": {
        "id": "6fzG3DXsahAL"
      },
      "source": [
        "# Evalua el error de la predicción (1 - Accuracy).\n",
        "\n",
        "def evaluate_error(hps, X_train, y_train, X_test, y_test, X_val, y_val):\n",
        "  batch_size = 128\n",
        "  epochs = 2 # Para reducir el tiempo de corrida del ejemplo\n",
        "  model = build_model(hps)\n",
        "  model.fit(X_train, y_train, batch_size = batch_size, epochs = epochs, verbose=0, validation_data = (X_val, y_val))\n",
        "  loss, score = model.evaluate(X_test, y_test)\n",
        "  print('Error: ', 1 - score)\n",
        "  return 1 - score"
      ],
      "execution_count": null,
      "outputs": []
    },
    {
      "cell_type": "code",
      "metadata": {
        "id": "u8y57h1QC4ar"
      },
      "source": [
        "\"\"\"\r\n",
        "\r\n",
        "  Esta función recibe como parametros los pares x,y,l donde l es la etiqueta\r\n",
        "  para identificar el experimento productor del par x,y. Devuelve una lista con \r\n",
        "  los datos de los puntos que pertenecen a la frontera de Pareto.\r\n",
        "\r\n",
        "\"\"\"\r\n",
        "\r\n",
        "def pareto_frontier(Xs, Ys, Ls):\r\n",
        "  paretoList = sorted([[Xs[i], Ys[i], Ls[i]] for i in range(len(Xs))], reverse=False)\r\n",
        "  p_front = [paretoList[0]]    \r\n",
        "  for pair in paretoList[1:]:\r\n",
        "    if pair[1] <= p_front[-1][1]:\r\n",
        "      p_front.append(pair)\r\n",
        "  p_frontX = [pair[0] for pair in p_front]\r\n",
        "  p_frontY = [pair[1] for pair in p_front]\r\n",
        "  p_frontL = [pair[2] for pair in p_front]\r\n",
        "  return p_frontX, p_frontY, p_frontL"
      ],
      "execution_count": null,
      "outputs": []
    },
    {
      "cell_type": "code",
      "metadata": {
        "id": "0SdRjeI1DeO_"
      },
      "source": [
        "\"\"\"\r\n",
        "\r\n",
        "  Evalua todos los experimentos y devuelve una array con los resultados de\r\n",
        "  error, tiempo y el indice.\r\n",
        "\r\n",
        "\"\"\"\r\n",
        "\r\n",
        "def evaluate_exps(exps, X_train, y_train, X_test, y_test, X_val, y_val):\r\n",
        "  return np.array([[evaluate_time(hps, X_train, y_train, X_test, y_test, X_val, y_val) for hps in exps], [evaluate_error(hps, X_train, y_train, X_test, y_test, X_val, y_val) for hps in exps], [index for index in range(exps.shape[0])]])"
      ],
      "execution_count": null,
      "outputs": []
    },
    {
      "cell_type": "code",
      "metadata": {
        "id": "z_HQcLJdob_B"
      },
      "source": [
        "\"\"\"\r\n",
        "\r\n",
        "  Grafica la dispersión de los resultados y la frontera de Pareto.\r\n",
        "\r\n",
        "\"\"\"\r\n",
        "\r\n",
        "def pareto_plot(all_results, pareto_f):\r\n",
        "  plt.figure(figsize=(16,10), facecolor='white')\r\n",
        "  plt.scatter(all_results[0], all_results[1], s = 200, alpha=0.5)\r\n",
        "  plt.plot(pareto_f[0], pareto_f[1], label = 'Frontera de Pareto', color = 'red', linewidth=4, markersize=30 )\r\n",
        "  for a,b,c in zip(pareto_f[0], pareto_f[1], pareto_f[2]): \r\n",
        "      plt.text(a, b, str(int(c)), fontsize=20)\r\n",
        "  plt.legend(loc = 'upper right')\r\n",
        "  plt.xlabel(\"Tiempo\", fontsize=20)\r\n",
        "  plt.ylabel(\"Error\", fontsize=20)\r\n",
        "  plt.title('Resultados de los Experimentos', fontsize=20)\r\n",
        "  plt.grid(True)\r\n",
        "  plt.show()"
      ],
      "execution_count": null,
      "outputs": []
    },
    {
      "cell_type": "code",
      "metadata": {
        "id": "qxHq0eMzHbFx"
      },
      "source": [
        "\"\"\"\r\n",
        "\r\n",
        "  Genera los experimentos, los corre y muestra los resultados.\r\n",
        "  Solo recibe como argumento la lista de hiperparametros con sus variaciones y\r\n",
        "  el Dataset particionado. Al modelo lo toma de la función build_model.\r\n",
        "\r\n",
        "\"\"\"\r\n",
        "\r\n",
        "def pareto_optimizer(hps_list, X_train, y_train, X_test, y_test, X_val, y_val):\r\n",
        "  # Genera los experimentos a partir de los hiperparametros\r\n",
        "  print(\"Generando experimentos...\")\r\n",
        "  exps = exps_composer(hps_list)\r\n",
        "  # Evalua el modelo con todos las combinaciones de hiperparametros (experimentos).\r\n",
        "  print(\"Evaluando \", int(exps.shape[0]), \" experimentos...\")\r\n",
        "  all_results = evaluate_exps(exps, X_train, y_train, X_test, y_test, X_val, y_val)\r\n",
        "  # Salecciona los experimentos que se encuentran en la frontera de Pareto.\r\n",
        "  pareto_f = pareto_frontier(all_results[0], all_results[1], all_results[2])\r\n",
        "  # Muestra los resultados.\r\n",
        "  pareto_plot(all_results, pareto_f)\r\n",
        "  # Lista de los experimentos en la frontera de Pareto.\r\n",
        "  print(\"Valores de los hiperparametros en los experimentos de la Frontera de Pareto\")\r\n",
        "  for x in pareto_f[2]:\r\n",
        "    print(\"Experimento: \", int(x), \" Hiperparametros: \", exps[int(x)])"
      ],
      "execution_count": null,
      "outputs": []
    },
    {
      "cell_type": "markdown",
      "metadata": {
        "id": "FGzZtpwCAtD3"
      },
      "source": [
        "**Una vez cargadas todas las funciones necesarias, vemos un ejemplo de uso con el dataset MNIST**"
      ]
    },
    {
      "cell_type": "markdown",
      "metadata": {
        "id": "L1X4KPg9DDyT"
      },
      "source": [
        "* Paso 1: Definimos el modelo en una función llamada *build_model* donde hps es la lista con los valores de los hiperparametros para los experimentos."
      ]
    },
    {
      "cell_type": "code",
      "metadata": {
        "id": "zskXj4ngIjPk"
      },
      "source": [
        "\"\"\"\r\n",
        "\r\n",
        "  Necesitamos definir el modelo dentro de esta función (con este nombre),\r\n",
        "  donde ademas vinculamos los valores de la lista hps con el hiperparametro\r\n",
        "  que representa. Para este ejemplo relacionamos los elementos de la lista hps\r\n",
        "  de la siguiente forma:\r\n",
        "  hps[0] tamaño del kernel 1\r\n",
        "  hps[1] la cantidad de filtros de la capa convolucional 1\r\n",
        "  hps[2] tamaño del kernel 2\r\n",
        "  hps[3] la cantidad de filtros de la capa convolucional 2\r\n",
        "  hps[4] la tasa de la capa dropout\r\n",
        "  Pueden probarse variaciones de más hiperparametros, hay que tener en cuenta\r\n",
        "  que se incrementará el tiempo de computo por cada hiperparametro que variemos.\r\n",
        "\r\n",
        "\"\"\"\r\n",
        "\r\n",
        "def build_model(hps):\r\n",
        "  input_shape = (28, 28, 1)\r\n",
        "  kernel1_size = int(hps[0])\r\n",
        "  kernel1_num = int(hps[1])\r\n",
        "  kernel2_size = int(hps[2])\r\n",
        "  kernel2_num = int(hps[3])\r\n",
        "  drop_out_perc = hps[4]\r\n",
        "  model = keras.Sequential()\r\n",
        "  model.add(keras.Input(shape=input_shape))\r\n",
        "  model.add(layers.Conv2D(kernel1_num, kernel_size=(kernel1_size, kernel1_size), activation=\"relu\"))\r\n",
        "  model.add(layers.MaxPooling2D(pool_size=(2, 2)))\r\n",
        "  model.add(layers.Conv2D(kernel2_num, kernel_size=(kernel2_size, kernel2_size), activation=\"relu\"))\r\n",
        "  model.add(layers.MaxPooling2D(pool_size=(2, 2)))\r\n",
        "  model.add(layers.Flatten())\r\n",
        "  model.add(layers.Dropout(drop_out_perc))\r\n",
        "  model.add(layers.Dense(10, activation=\"softmax\"))\r\n",
        "\r\n",
        "  model.compile(optimizer='adam', loss='categorical_crossentropy', metrics=['accuracy'])\r\n",
        "  # print(model_m.summary())\r\n",
        "  return model"
      ],
      "execution_count": null,
      "outputs": []
    },
    {
      "cell_type": "markdown",
      "metadata": {
        "id": "iTNzTgfuDdcx"
      },
      "source": [
        "* Paso 2: Defimos un numpy array con un elemento por cada hiperparametro a probar, que a la vez es una lista de valores para ese hiperparametro."
      ]
    },
    {
      "cell_type": "code",
      "metadata": {
        "id": "XehN4rRTlQhA",
        "colab": {
          "base_uri": "https://localhost:8080/"
        },
        "outputId": "244f7aa1-a801-4824-df8d-0230433f9746"
      },
      "source": [
        "\"\"\"\r\n",
        "\r\n",
        "Cargamos en un Numpy array los hiperparametros y los valores a probar, en este\r\n",
        "ejemplo se expresan así:\r\n",
        "\r\n",
        "hps_list[0] puede tomar valores 3. (Tamaño de kernel 1)\r\n",
        "hps_list[1] puede tomar valores 8, 16, 32. (Filtros en capa conv. 1)\r\n",
        "hps_list[2] puede tomar valores 2,3. (Tamaño de kernel 2)\r\n",
        "hps_list[3] puede tomar valores 32, 64. (Filtros en capa conv. 2)\r\n",
        "hps_list[4] puede tomar valores .5. (Tasa de Dropout)\r\n",
        "\r\n",
        "Si analizamos nuestros modelos podemos ver que algunos hiperparametros al variar\r\n",
        "incrementaran el tiempo de predicción ya que agregan calculos, mientras que\r\n",
        "otros solo afectarán el error.\r\n",
        "\r\n",
        "\"\"\"\r\n",
        "hps_list = np.array([[3], [8, 16, 32], [2, 3], [32, 64], [.5]])"
      ],
      "execution_count": null,
      "outputs": [
        {
          "output_type": "stream",
          "text": [
            "/usr/local/lib/python3.6/dist-packages/ipykernel_launcher.py:17: VisibleDeprecationWarning: Creating an ndarray from ragged nested sequences (which is a list-or-tuple of lists-or-tuples-or ndarrays with different lengths or shapes) is deprecated. If you meant to do this, you must specify 'dtype=object' when creating the ndarray\n"
          ],
          "name": "stderr"
        }
      ]
    },
    {
      "cell_type": "markdown",
      "metadata": {
        "id": "vbopdg-EF9ao"
      },
      "source": [
        "* Paso 3: Solo nos resta preparar el Dataset con una fracción de entrenamiento, otra de validación y una de test, y correr el código!!!"
      ]
    },
    {
      "cell_type": "code",
      "metadata": {
        "id": "rpcqyCYoAFE9",
        "colab": {
          "base_uri": "https://localhost:8080/",
          "height": 1000
        },
        "outputId": "f5cf7886-7663-408d-82f0-522ad8023336"
      },
      "source": [
        "\"\"\"\r\n",
        "\r\n",
        "  Preparación del Dataset y ejecución del método\r\n",
        "  \r\n",
        "\"\"\"\r\n",
        "\r\n",
        "# Descargamos el dataset partido en dos para entrenamiento y test\r\n",
        "(X_train, y_train), (X_test, y_test) = keras.datasets.mnist.load_data()\r\n",
        "\r\n",
        "# Normalizamos los valores entre 0 y 1\r\n",
        "X_train = X_train.astype(\"float32\") / 255\r\n",
        "X_test = X_test.astype(\"float32\") / 255\r\n",
        "\r\n",
        "# Adaptamos la forma de entrada para el modelo\r\n",
        "X_train = np.expand_dims(X_train, -1)\r\n",
        "X_test = np.expand_dims(X_test, -1)\r\n",
        "\r\n",
        "# Extraemos el 20% del conjunto de entrenamiento para validar\r\n",
        "X_train, X_val, y_train, y_val = train_test_split(X_train, y_train, test_size=0.2)\r\n",
        "\r\n",
        "# Utilizamos codificación One-hot para las etiquetas de salida esperada\r\n",
        "y_train = keras.utils.to_categorical(y_train, 10)\r\n",
        "y_val = keras.utils.to_categorical(y_val, 10)\r\n",
        "y_test = keras.utils.to_categorical(y_test, 10)\r\n",
        "\r\n",
        "# Corremos el optimizador\r\n",
        "pareto_optimizer(hps_list, X_train, y_train, X_test, y_test, X_val, y_val)"
      ],
      "execution_count": null,
      "outputs": [
        {
          "output_type": "stream",
          "text": [
            "Generando experimentos...\n",
            "Evaluando  12  experimentos...\n",
            "Tiempo promedio de prediccion: 1.6042303085327148\n",
            "Tiempo promedio de prediccion: 1.8302582025527954\n",
            "Tiempo promedio de prediccion: 1.6657743215560914\n",
            "Tiempo promedio de prediccion: 1.8296376943588257\n",
            "Tiempo promedio de prediccion: 1.852253007888794\n",
            "Tiempo promedio de prediccion: 1.982107925415039\n",
            "Tiempo promedio de prediccion: 1.8648272514343263\n",
            "Tiempo promedio de prediccion: 2.188537335395813\n",
            "Tiempo promedio de prediccion: 2.114001226425171\n",
            "Tiempo promedio de prediccion: 2.388027548789978\n",
            "Tiempo promedio de prediccion: 2.3024861097335814\n",
            "Tiempo promedio de prediccion: 2.7687589168548583\n",
            "313/313 [==============================] - 2s 5ms/step - loss: 0.1171 - accuracy: 0.9660\n",
            "Error:  0.0339999794960022\n",
            "313/313 [==============================] - 2s 6ms/step - loss: 0.0858 - accuracy: 0.9746\n",
            "Error:  0.025399982929229736\n",
            "313/313 [==============================] - 2s 5ms/step - loss: 0.0971 - accuracy: 0.9714\n",
            "Error:  0.028599977493286133\n",
            "313/313 [==============================] - 2s 6ms/step - loss: 0.0793 - accuracy: 0.9736\n",
            "Error:  0.02640002965927124\n",
            "313/313 [==============================] - 2s 6ms/step - loss: 0.1050 - accuracy: 0.9705\n",
            "Error:  0.02950000762939453\n",
            "313/313 [==============================] - 2s 6ms/step - loss: 0.0759 - accuracy: 0.9759\n",
            "Error:  0.024100005626678467\n",
            "313/313 [==============================] - 2s 6ms/step - loss: 0.0930 - accuracy: 0.9717\n",
            "Error:  0.028299987316131592\n",
            "313/313 [==============================] - 2s 7ms/step - loss: 0.0684 - accuracy: 0.9789\n",
            "Error:  0.021099984645843506\n",
            "313/313 [==============================] - 2s 7ms/step - loss: 0.0888 - accuracy: 0.9735\n",
            "Error:  0.02649998664855957\n",
            "313/313 [==============================] - 2s 8ms/step - loss: 0.0702 - accuracy: 0.9778\n",
            "Error:  0.02219998836517334\n",
            "313/313 [==============================] - 2s 7ms/step - loss: 0.0827 - accuracy: 0.9754\n",
            "Error:  0.02460002899169922\n",
            "313/313 [==============================] - 3s 9ms/step - loss: 0.0674 - accuracy: 0.9802\n",
            "Error:  0.019800007343292236\n"
          ],
          "name": "stdout"
        },
        {
          "output_type": "display_data",
          "data": {
            "image/png": "[encoded data removed]",
            "text/plain": [
              "<Figure size 1152x720 with 1 Axes>"
            ]
          },
          "metadata": {
            "tags": []
          }
        },
        {
          "output_type": "stream",
          "text": [
            "Valores de los hiperparametros en los experimentos de la Frontera de Pareto\n",
            "Experimento:  0  Hiperparametros:  [ 3.   8.   2.  32.   0.5]\n",
            "Experimento:  2  Hiperparametros:  [ 3.   8.   3.  32.   0.5]\n",
            "Experimento:  3  Hiperparametros:  [ 3.   8.   3.  64.   0.5]\n",
            "Experimento:  1  Hiperparametros:  [ 3.   8.   2.  64.   0.5]\n",
            "Experimento:  5  Hiperparametros:  [ 3.  16.   2.  64.   0.5]\n",
            "Experimento:  7  Hiperparametros:  [ 3.  16.   3.  64.   0.5]\n",
            "Experimento:  11  Hiperparametros:  [ 3.  32.   3.  64.   0.5]\n"
          ],
          "name": "stdout"
        }
      ]
    }
  ]
}